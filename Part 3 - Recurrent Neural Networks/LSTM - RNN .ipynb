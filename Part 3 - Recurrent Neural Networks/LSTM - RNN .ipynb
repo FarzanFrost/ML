{
 "cells": [
  {
   "cell_type": "code",
   "execution_count": 1,
   "id": "30f490ca",
   "metadata": {},
   "outputs": [],
   "source": [
    "#LSTM - RNN\n",
    "import numpy as np\n",
    "import matplotlib.pyplot as plt\n",
    "import pandas as pd"
   ]
  },
  {
   "cell_type": "code",
   "execution_count": 2,
   "id": "f29c342d",
   "metadata": {},
   "outputs": [],
   "source": [
    "datasetTrain = pd.read_csv('Google_Stock_Price_Train.csv')"
   ]
  },
  {
   "cell_type": "code",
   "execution_count": 3,
   "id": "5c10e2bf",
   "metadata": {},
   "outputs": [],
   "source": [
    "#create numpy array using .values\n",
    "trainingSet = datasetTrain.iloc[ : , 1:2].values"
   ]
  },
  {
   "cell_type": "code",
   "execution_count": 4,
   "id": "13c6c11d",
   "metadata": {},
   "outputs": [],
   "source": [
    "#Feature Scaling can be done in two methods\n",
    "# 1 - Standardisation : Xstand = ( x - mean( x ) ) / (standardDeviation( x ) )\n",
    "# 2 - Normalisation : Xnorm = ( x - min( x ) ) / ( ( max( x ) - min( x ) ) )\n",
    "#Normalisation is recomended to RNN"
   ]
  },
  {
   "cell_type": "code",
   "execution_count": 5,
   "id": "21a9aeff",
   "metadata": {},
   "outputs": [
    {
     "data": {
      "text/plain": [
       "array([[0.08581368],\n",
       "       [0.09701243],\n",
       "       [0.09433366],\n",
       "       ...,\n",
       "       [0.95725128],\n",
       "       [0.93796041],\n",
       "       [0.93688146]])"
      ]
     },
     "execution_count": 5,
     "metadata": {},
     "output_type": "execute_result"
    }
   ],
   "source": [
    "from sklearn.preprocessing import MinMaxScaler\n",
    "scaler = MinMaxScaler( feature_range = ( 0 , 1 ) )\n",
    "trainingSetScaled = scaler.fit_transform( trainingSet )\n",
    "trainingSetScaled"
   ]
  },
  {
   "cell_type": "code",
   "execution_count": 6,
   "id": "f273f9ff",
   "metadata": {},
   "outputs": [],
   "source": [
    "#specify data structure on what RNN need to remember when predicting the next stock price\n",
    "#This is called the number of \"time\" steps\n",
    "#having wrong number of time steps could lead to over fitting or nonsense predictions\n",
    "#60 timesteps means that RNN is goign to look at 60 stock prices before time T,\n",
    "#that is the stock prices between 60 days before time T and time T,\n",
    "#and based on the trends it captures during thse 60 previous timesteps,\n",
    "#it will try to predict the next output. 1 output that is at T + 1."
   ]
  },
  {
   "cell_type": "code",
   "execution_count": 7,
   "id": "e1f5e2d8",
   "metadata": {},
   "outputs": [],
   "source": [
    "xTrain = []\n",
    "yTrain = []\n",
    "for i in range( 60 , len( trainingSetScaled ) ):\n",
    "    xTrain.append( trainingSetScaled[ i - 60 : i , 0 ] )\n",
    "    yTrain.append( trainingSetScaled[ i , 0 ] )\n",
    "xTrain , yTrain = np.array( xTrain ) , np.array( yTrain )\n",
    "#here we create xTrain as a matrix in which the 1st record has data of the first 60 days\n",
    "#and yTrain has the value of the 61st day"
   ]
  },
  {
   "cell_type": "code",
   "execution_count": 8,
   "id": "edb99816",
   "metadata": {},
   "outputs": [
    {
     "data": {
      "text/plain": [
       "array([[[0.08581368],\n",
       "        [0.09701243],\n",
       "        [0.09433366],\n",
       "        ...,\n",
       "        [0.07846566],\n",
       "        [0.08034452],\n",
       "        [0.08497656]],\n",
       "\n",
       "       [[0.09701243],\n",
       "        [0.09433366],\n",
       "        [0.09156187],\n",
       "        ...,\n",
       "        [0.08034452],\n",
       "        [0.08497656],\n",
       "        [0.08627874]],\n",
       "\n",
       "       [[0.09433366],\n",
       "        [0.09156187],\n",
       "        [0.07984225],\n",
       "        ...,\n",
       "        [0.08497656],\n",
       "        [0.08627874],\n",
       "        [0.08471612]],\n",
       "\n",
       "       ...,\n",
       "\n",
       "       [[0.92106928],\n",
       "        [0.92438053],\n",
       "        [0.93048218],\n",
       "        ...,\n",
       "        [0.95475854],\n",
       "        [0.95204256],\n",
       "        [0.95163331]],\n",
       "\n",
       "       [[0.92438053],\n",
       "        [0.93048218],\n",
       "        [0.9299055 ],\n",
       "        ...,\n",
       "        [0.95204256],\n",
       "        [0.95163331],\n",
       "        [0.95725128]],\n",
       "\n",
       "       [[0.93048218],\n",
       "        [0.9299055 ],\n",
       "        [0.93113327],\n",
       "        ...,\n",
       "        [0.95163331],\n",
       "        [0.95725128],\n",
       "        [0.93796041]]])"
      ]
     },
     "execution_count": 8,
     "metadata": {},
     "output_type": "execute_result"
    }
   ],
   "source": [
    "#Reshaping as required for the RNN in keras\n",
    "#( batch_size , timesteps , input_dim )\n",
    "xTrain = np.reshape( xTrain , ( xTrain.shape[0] , xTrain.shape[1] , 1 ) )\n",
    "xTrain"
   ]
  },
  {
   "cell_type": "code",
   "execution_count": 9,
   "id": "8f446868",
   "metadata": {},
   "outputs": [],
   "source": [
    "from keras.models import Sequential\n",
    "from keras.layers import Dense\n",
    "from keras.layers import LSTM\n",
    "from keras.layers import Dropout"
   ]
  },
  {
   "cell_type": "code",
   "execution_count": 10,
   "id": "d6a0cc52",
   "metadata": {},
   "outputs": [],
   "source": [
    "regressor = Sequential()\n",
    "#adding a LSTM layer\n",
    "#units -> number of neurons\n",
    "#return_sequence -> indicates that there will be a next RNN layer after this\n",
    "#input_shape -> takes timesteps and input_dim as the input, the batch_size is taken default.\n",
    "#dropout drops 20% of the neurons in each steps of training. i.e leave 10 neurons in each iteration in this case.\n",
    "regressor.add( LSTM( units = 50 , return_sequences = True , input_shape = ( xTrain.shape[1] , 1 ) ) )\n",
    "regressor.add( Dropout( 0.2 ) )"
   ]
  },
  {
   "cell_type": "code",
   "execution_count": 11,
   "id": "e7a6ac6a",
   "metadata": {},
   "outputs": [],
   "source": [
    "#2nd layer, it gets the input_shape from the previous layer, so don't have to give the input_shape explicily.\n",
    "regressor.add( LSTM( units = 50 , return_sequences = True ) )\n",
    "regressor.add( Dropout( 0.2 ) )\n",
    "#3rd layer\n",
    "regressor.add( LSTM( units = 50 , return_sequences = True ) )\n",
    "regressor.add( Dropout( 0.2 ) )\n",
    "#4th layer, since this is the last layer, return_sequences should be false, and as default it is...\n",
    "regressor.add( LSTM( units = 50 ) )\n",
    "regressor.add( Dropout( 0.2 ) )"
   ]
  },
  {
   "cell_type": "code",
   "execution_count": 12,
   "id": "06f62573",
   "metadata": {},
   "outputs": [],
   "source": [
    "#Output layer\n",
    "regressor.add( Dense( units = 1 ) )"
   ]
  },
  {
   "cell_type": "code",
   "execution_count": 13,
   "id": "15afca90",
   "metadata": {},
   "outputs": [],
   "source": [
    "regressor.compile( optimizer = 'adam' , loss = 'mean_squared_error' )"
   ]
  },
  {
   "cell_type": "code",
   "execution_count": 14,
   "id": "47a74943",
   "metadata": {},
   "outputs": [
    {
     "name": "stdout",
     "output_type": "stream",
     "text": [
      "Epoch 1/100\n",
      "38/38 [==============================] - 9s 102ms/step - loss: 0.0386\n",
      "Epoch 2/100\n",
      "38/38 [==============================] - 2s 61ms/step - loss: 0.0060\n",
      "Epoch 3/100\n",
      "38/38 [==============================] - 2s 62ms/step - loss: 0.0053\n",
      "Epoch 4/100\n",
      "38/38 [==============================] - 2s 62ms/step - loss: 0.0056\n",
      "Epoch 5/100\n",
      "38/38 [==============================] - 2s 62ms/step - loss: 0.0053\n",
      "Epoch 6/100\n",
      "38/38 [==============================] - 2s 63ms/step - loss: 0.0053\n",
      "Epoch 7/100\n",
      "38/38 [==============================] - 3s 77ms/step - loss: 0.0049\n",
      "Epoch 8/100\n",
      "38/38 [==============================] - 2s 63ms/step - loss: 0.0051\n",
      "Epoch 9/100\n",
      "38/38 [==============================] - 2s 62ms/step - loss: 0.0044\n",
      "Epoch 10/100\n",
      "38/38 [==============================] - 2s 60ms/step - loss: 0.0041\n",
      "Epoch 11/100\n",
      "38/38 [==============================] - 3s 67ms/step - loss: 0.0046\n",
      "Epoch 12/100\n",
      "38/38 [==============================] - 2s 63ms/step - loss: 0.0044\n",
      "Epoch 13/100\n",
      "38/38 [==============================] - 2s 63ms/step - loss: 0.0044\n",
      "Epoch 14/100\n",
      "38/38 [==============================] - 2s 63ms/step - loss: 0.0037\n",
      "Epoch 15/100\n",
      "38/38 [==============================] - 2s 62ms/step - loss: 0.0039\n",
      "Epoch 16/100\n",
      "38/38 [==============================] - 2s 65ms/step - loss: 0.0038\n",
      "Epoch 17/100\n",
      "38/38 [==============================] - 2s 65ms/step - loss: 0.0035\n",
      "Epoch 18/100\n",
      "38/38 [==============================] - 2s 64ms/step - loss: 0.0035\n",
      "Epoch 19/100\n",
      "38/38 [==============================] - 2s 64ms/step - loss: 0.0039\n",
      "Epoch 20/100\n",
      "38/38 [==============================] - 2s 64ms/step - loss: 0.0038\n",
      "Epoch 21/100\n",
      "38/38 [==============================] - 3s 66ms/step - loss: 0.0034\n",
      "Epoch 22/100\n",
      "38/38 [==============================] - 2s 64ms/step - loss: 0.0032\n",
      "Epoch 23/100\n",
      "38/38 [==============================] - 2s 64ms/step - loss: 0.0032\n",
      "Epoch 24/100\n",
      "38/38 [==============================] - 2s 64ms/step - loss: 0.0027\n",
      "Epoch 25/100\n",
      "38/38 [==============================] - 2s 64ms/step - loss: 0.0030\n",
      "Epoch 26/100\n",
      "38/38 [==============================] - 2s 64ms/step - loss: 0.0034\n",
      "Epoch 27/100\n",
      "38/38 [==============================] - 2s 64ms/step - loss: 0.0030\n",
      "Epoch 28/100\n",
      "38/38 [==============================] - 2s 64ms/step - loss: 0.0029\n",
      "Epoch 29/100\n",
      "38/38 [==============================] - 2s 64ms/step - loss: 0.0032\n",
      "Epoch 30/100\n",
      "38/38 [==============================] - 2s 65ms/step - loss: 0.0033\n",
      "Epoch 31/100\n",
      "38/38 [==============================] - 2s 64ms/step - loss: 0.0029\n",
      "Epoch 32/100\n",
      "38/38 [==============================] - 2s 63ms/step - loss: 0.0029\n",
      "Epoch 33/100\n",
      "38/38 [==============================] - 2s 64ms/step - loss: 0.0028\n",
      "Epoch 34/100\n",
      "38/38 [==============================] - 2s 64ms/step - loss: 0.0033\n",
      "Epoch 35/100\n",
      "38/38 [==============================] - 2s 64ms/step - loss: 0.0029\n",
      "Epoch 36/100\n",
      "38/38 [==============================] - 2s 63ms/step - loss: 0.0031\n",
      "Epoch 37/100\n",
      "38/38 [==============================] - 2s 64ms/step - loss: 0.0026\n",
      "Epoch 38/100\n",
      "38/38 [==============================] - 2s 64ms/step - loss: 0.0028\n",
      "Epoch 39/100\n",
      "38/38 [==============================] - 2s 64ms/step - loss: 0.0028\n",
      "Epoch 40/100\n",
      "38/38 [==============================] - 2s 64ms/step - loss: 0.0030\n",
      "Epoch 41/100\n",
      "38/38 [==============================] - 2s 64ms/step - loss: 0.0025\n",
      "Epoch 42/100\n",
      "38/38 [==============================] - 2s 64ms/step - loss: 0.0026\n",
      "Epoch 43/100\n",
      "38/38 [==============================] - 2s 64ms/step - loss: 0.0027\n",
      "Epoch 44/100\n",
      "38/38 [==============================] - 2s 64ms/step - loss: 0.0028\n",
      "Epoch 45/100\n",
      "38/38 [==============================] - 2s 64ms/step - loss: 0.0027\n",
      "Epoch 46/100\n",
      "38/38 [==============================] - 2s 64ms/step - loss: 0.0025\n",
      "Epoch 47/100\n",
      "38/38 [==============================] - 2s 64ms/step - loss: 0.0023\n",
      "Epoch 48/100\n",
      "38/38 [==============================] - 2s 64ms/step - loss: 0.0025\n",
      "Epoch 49/100\n",
      "38/38 [==============================] - 2s 65ms/step - loss: 0.0025\n",
      "Epoch 50/100\n",
      "38/38 [==============================] - 2s 64ms/step - loss: 0.0024\n",
      "Epoch 51/100\n",
      "38/38 [==============================] - 2s 64ms/step - loss: 0.0023\n",
      "Epoch 52/100\n",
      "38/38 [==============================] - 2s 64ms/step - loss: 0.0023\n",
      "Epoch 53/100\n",
      "38/38 [==============================] - 2s 64ms/step - loss: 0.0023\n",
      "Epoch 54/100\n",
      "38/38 [==============================] - 2s 64ms/step - loss: 0.0022\n",
      "Epoch 55/100\n",
      "38/38 [==============================] - 2s 64ms/step - loss: 0.0026\n",
      "Epoch 56/100\n",
      "38/38 [==============================] - 2s 64ms/step - loss: 0.0021\n",
      "Epoch 57/100\n",
      "38/38 [==============================] - 2s 64ms/step - loss: 0.0022\n",
      "Epoch 58/100\n",
      "38/38 [==============================] - 2s 64ms/step - loss: 0.0021\n",
      "Epoch 59/100\n",
      "38/38 [==============================] - 3s 66ms/step - loss: 0.0022\n",
      "Epoch 60/100\n",
      "38/38 [==============================] - 2s 63ms/step - loss: 0.0021\n",
      "Epoch 61/100\n",
      "38/38 [==============================] - 2s 64ms/step - loss: 0.0018\n",
      "Epoch 62/100\n",
      "38/38 [==============================] - 2s 65ms/step - loss: 0.0020\n",
      "Epoch 63/100\n",
      "38/38 [==============================] - 2s 64ms/step - loss: 0.0018\n",
      "Epoch 64/100\n",
      "38/38 [==============================] - 2s 64ms/step - loss: 0.0020\n",
      "Epoch 65/100\n",
      "38/38 [==============================] - 2s 64ms/step - loss: 0.0021\n",
      "Epoch 66/100\n",
      "38/38 [==============================] - 2s 65ms/step - loss: 0.0023\n",
      "Epoch 67/100\n",
      "38/38 [==============================] - 2s 64ms/step - loss: 0.0019\n",
      "Epoch 68/100\n",
      "38/38 [==============================] - 2s 64ms/step - loss: 0.0018\n",
      "Epoch 69/100\n",
      "38/38 [==============================] - 2s 64ms/step - loss: 0.0017\n",
      "Epoch 70/100\n",
      "38/38 [==============================] - 2s 64ms/step - loss: 0.0018\n",
      "Epoch 71/100\n",
      "38/38 [==============================] - 2s 64ms/step - loss: 0.0019\n",
      "Epoch 72/100\n",
      "38/38 [==============================] - 2s 64ms/step - loss: 0.0018\n",
      "Epoch 73/100\n",
      "38/38 [==============================] - 2s 64ms/step - loss: 0.0018\n",
      "Epoch 74/100\n",
      "38/38 [==============================] - 2s 64ms/step - loss: 0.0018\n",
      "Epoch 75/100\n",
      "38/38 [==============================] - 2s 65ms/step - loss: 0.0019\n",
      "Epoch 76/100\n",
      "38/38 [==============================] - 2s 65ms/step - loss: 0.0016\n",
      "Epoch 77/100\n",
      "38/38 [==============================] - 2s 65ms/step - loss: 0.0016\n",
      "Epoch 78/100\n",
      "38/38 [==============================] - 2s 66ms/step - loss: 0.0019\n",
      "Epoch 79/100\n",
      "38/38 [==============================] - 2s 66ms/step - loss: 0.0015\n",
      "Epoch 80/100\n",
      "38/38 [==============================] - 2s 65ms/step - loss: 0.0017\n",
      "Epoch 81/100\n",
      "38/38 [==============================] - 2s 65ms/step - loss: 0.0018\n",
      "Epoch 82/100\n",
      "38/38 [==============================] - 2s 64ms/step - loss: 0.0017\n",
      "Epoch 83/100\n",
      "38/38 [==============================] - 2s 64ms/step - loss: 0.0016\n",
      "Epoch 84/100\n",
      "38/38 [==============================] - 2s 65ms/step - loss: 0.0017\n",
      "Epoch 85/100\n",
      "38/38 [==============================] - 2s 65ms/step - loss: 0.0016\n",
      "Epoch 86/100\n",
      "38/38 [==============================] - 2s 64ms/step - loss: 0.0015\n",
      "Epoch 87/100\n",
      "38/38 [==============================] - 2s 64ms/step - loss: 0.0016\n",
      "Epoch 88/100\n",
      "38/38 [==============================] - 2s 65ms/step - loss: 0.0015\n",
      "Epoch 89/100\n",
      "38/38 [==============================] - 2s 65ms/step - loss: 0.0014\n",
      "Epoch 90/100\n",
      "38/38 [==============================] - 2s 64ms/step - loss: 0.0016\n",
      "Epoch 91/100\n",
      "38/38 [==============================] - 2s 65ms/step - loss: 0.0015\n",
      "Epoch 92/100\n",
      "38/38 [==============================] - 2s 65ms/step - loss: 0.0016\n",
      "Epoch 93/100\n",
      "38/38 [==============================] - 2s 65ms/step - loss: 0.0015\n",
      "Epoch 94/100\n",
      "38/38 [==============================] - 2s 64ms/step - loss: 0.0014\n",
      "Epoch 95/100\n",
      "38/38 [==============================] - 2s 64ms/step - loss: 0.0015\n",
      "Epoch 96/100\n",
      "38/38 [==============================] - 2s 64ms/step - loss: 0.0015\n",
      "Epoch 97/100\n",
      "38/38 [==============================] - 2s 65ms/step - loss: 0.0014\n",
      "Epoch 98/100\n",
      "38/38 [==============================] - 2s 64ms/step - loss: 0.0015\n",
      "Epoch 99/100\n",
      "38/38 [==============================] - 2s 64ms/step - loss: 0.0014\n",
      "Epoch 100/100\n",
      "38/38 [==============================] - 2s 64ms/step - loss: 0.0016\n"
     ]
    },
    {
     "data": {
      "text/plain": [
       "<keras.callbacks.History at 0x17f2a869f40>"
      ]
     },
     "execution_count": 14,
     "metadata": {},
     "output_type": "execute_result"
    }
   ],
   "source": [
    "regressor.fit( xTrain , yTrain , epochs = 100 , batch_size = 32 )"
   ]
  },
  {
   "cell_type": "code",
   "execution_count": 15,
   "id": "1ca5f1d0",
   "metadata": {},
   "outputs": [
    {
     "data": {
      "text/plain": [
       "array([[778.81],\n",
       "       [788.36],\n",
       "       [786.08],\n",
       "       [795.26],\n",
       "       [806.4 ],\n",
       "       [807.86],\n",
       "       [805.  ],\n",
       "       [807.14],\n",
       "       [807.48],\n",
       "       [807.08],\n",
       "       [805.81],\n",
       "       [805.12],\n",
       "       [806.91],\n",
       "       [807.25],\n",
       "       [822.3 ],\n",
       "       [829.62],\n",
       "       [837.81],\n",
       "       [834.71],\n",
       "       [814.66],\n",
       "       [796.86]])"
      ]
     },
     "execution_count": 15,
     "metadata": {},
     "output_type": "execute_result"
    }
   ],
   "source": [
    "datasetTest = pd.read_csv('Google_Stock_Price_Test.csv')\n",
    "realStockPrice = datasetTest.iloc[ : , 1:2].values\n",
    "realStockPrice"
   ]
  },
  {
   "cell_type": "code",
   "execution_count": 16,
   "id": "7e674f8b",
   "metadata": {},
   "outputs": [
    {
     "name": "stdout",
     "output_type": "stream",
     "text": [
      "1/1 [==============================] - 1s 1s/step\n"
     ]
    },
    {
     "data": {
      "text/plain": [
       "array([[749.69354],\n",
       "       [746.87787],\n",
       "       [747.3873 ],\n",
       "       [748.9109 ],\n",
       "       [752.1145 ],\n",
       "       [757.6145 ],\n",
       "       [762.2291 ],\n",
       "       [763.461  ],\n",
       "       [763.2137 ],\n",
       "       [762.97   ],\n",
       "       [763.1151 ],\n",
       "       [763.32306],\n",
       "       [763.49634],\n",
       "       [764.23083],\n",
       "       [765.20105],\n",
       "       [769.8154 ],\n",
       "       [776.412  ],\n",
       "       [783.024  ],\n",
       "       [785.8667 ],\n",
       "       [780.6312 ]], dtype=float32)"
      ]
     },
     "execution_count": 16,
     "metadata": {},
     "output_type": "execute_result"
    }
   ],
   "source": [
    "#Getting the predicted stock price of 2017\n",
    "datasetTotal = pd.concat( ( datasetTrain['Open'] , datasetTest['Open'] ) , axis = 0 )\n",
    "inputs = datasetTotal[ len( datasetTotal ) - len( datasetTest ) - 60 : ].values\n",
    "inputs = inputs.reshape( -1,1 )\n",
    "inputs = scaler.transform( inputs )\n",
    "\n",
    "xTest = []\n",
    "for i in range( 60 , 60 + len( realStockPrice ) ):\n",
    "    xTest.append( inputs[ i - 60 : i , 0 ] )\n",
    "\n",
    "xTest = np.array( xTest )\n",
    "\n",
    "xTest = np.reshape( xTest , ( xTest.shape[0] , xTest.shape[1] , 1 ) )\n",
    "\n",
    "predictedStockPrice = regressor.predict( xTest )\n",
    "\n",
    "#the output is given as scaled values, so we inverse/reverse the scale to get the actual value\n",
    "predictedStockPrice = scaler.inverse_transform( predictedStockPrice )\n",
    "predictedStockPrice"
   ]
  },
  {
   "cell_type": "code",
   "execution_count": 17,
   "id": "7fae904d",
   "metadata": {},
   "outputs": [
    {
     "data": {
      "image/png": "[encoded data removed]",
      "text/plain": [
       "<Figure size 640x480 with 1 Axes>"
      ]
     },
     "metadata": {},
     "output_type": "display_data"
    }
   ],
   "source": [
    "#visualizing the results\n",
    "plt.plot( realStockPrice , color = 'red' , label = 'Real Google Stock Price')\n",
    "plt.plot( predictedStockPrice , color = 'Yellow' , label = 'Predicted Google Stock Price')\n",
    "plt.title( 'Google Stock Price Prediction' )\n",
    "plt.xlabel( 'Time' )\n",
    "plt.ylabel( 'Google Stock Price' )\n",
    "plt.legend()\n",
    "plt.show()"
   ]
  },
  {
   "cell_type": "code",
   "execution_count": null,
   "id": "e66a44b2",
   "metadata": {},
   "outputs": [],
   "source": []
  }
 ],
 "metadata": {
  "kernelspec": {
   "display_name": "Python 3 (ipykernel)",
   "language": "python",
   "name": "python3"
  },
  "language_info": {
   "codemirror_mode": {
    "name": "ipython",
    "version": 3
   },
   "file_extension": ".py",
   "mimetype": "text/x-python",
   "name": "python",
   "nbconvert_exporter": "python",
   "pygments_lexer": "ipython3",
   "version": "3.9.13"
  }
 },
 "nbformat": 4,
 "nbformat_minor": 5
}
